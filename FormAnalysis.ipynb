{
 "cells": [
  {
   "cell_type": "code",
   "execution_count": 2,
   "metadata": {},
   "outputs": [],
   "source": [
    "import pandas as pd\n",
    "import numpy as np"
   ]
  },
  {
   "cell_type": "code",
   "execution_count": 3,
   "metadata": {},
   "outputs": [
    {
     "name": "stdout",
     "output_type": "stream",
     "text": [
      "Index(['ID', 'innings', 'overs', 'ballnumber', 'batter', 'bowler',\n",
      "       'non-striker', 'extra_type', 'batsman_run', 'extras_run', 'total_run',\n",
      "       'non_boundary', 'isWicketDelivery', 'player_out', 'kind',\n",
      "       'fielders_involved', 'BattingTeam'],\n",
      "      dtype='object')\n"
     ]
    }
   ],
   "source": [
    "df = pd.read_csv('IPL_Ball_by_Ball_2008_2022.csv')\n",
    "print(df.columns)\n",
    "# df = df.sample(frac=0.1, random_state=42)  # Set a random_state for reproducibility\n",
    "# df.head()\n",
    "# print(df['isWicketDelivery'].value_counts())"
   ]
  },
  {
   "cell_type": "code",
   "execution_count": 4,
   "metadata": {},
   "outputs": [],
   "source": [
    "class formAnalysis:\n",
    "    dict = {}\n",
    "    n = 6\n",
    "    total_data = 0\n",
    "    def initializeModel(self, n, dataset):\n",
    "        len_dataset = len(dataset)\n",
    "        for i in range(n+1, len_dataset):\n",
    "            tmp = []\n",
    "            self.total_data += 1\n",
    "            for j in range(i-n-1,i):\n",
    "                tmp.append([dataset.iloc[j]['total_run'],dataset.iloc[j]['isWicketDelivery']])\n",
    "            tmp = tuple(tuple(inner) for inner in tmp)\n",
    "            if tmp in self.dict:\n",
    "                self.dict[tmp] += 1\n",
    "            else:\n",
    "                self.dict[tmp] = 1\n",
    "    def __init__(self, n, dataset) -> None:\n",
    "        self.dict = {}\n",
    "        self.n = n\n",
    "        self.total_data = 0\n",
    "        self.initializeModel(n, dataset)\n",
    "    def predict(self, data_test):\n",
    "        # print(self.dict)\n",
    "        current_state = []\n",
    "        len_data_test = len(data_test)\n",
    "        if len_data_test<self.n:\n",
    "            return\n",
    "        for i in range(len_data_test-self.n, len_data_test):\n",
    "            # current_state.append([data_test.iloc[i]['total_run'],data_test.iloc[i]['player_out']])\n",
    "            current_state.append([data_test[i][0],data_test[i][1]])\n",
    "        # print(current_state)\n",
    "        prediction = [-1,-1]\n",
    "        prediction_prob = -1\n",
    "        prob_for_each_prediction = {}\n",
    "        total_prob = 0\n",
    "        for runs in range(0,7):\n",
    "            for wicket in range(0,2):\n",
    "                possibility_state = current_state.copy()\n",
    "                possibility_state.append([runs, wicket])\n",
    "                # print(possibility_state)\n",
    "                possibility_state = tuple(tuple(inner) for inner in possibility_state)\n",
    "                # print(possibility_state)\n",
    "                if possibility_state in self.dict:\n",
    "                    prob = self.dict[possibility_state]\n",
    "                else:\n",
    "                    prob = 0\n",
    "                if prob > prediction_prob:\n",
    "                    prediction_prob = prob\n",
    "                    prediction = [runs, wicket]\n",
    "                total_prob += prob\n",
    "                prob_for_each_prediction[(runs,wicket)] = prob\n",
    "        prediction_prob /= total_prob\n",
    "        for probability in prob_for_each_prediction:\n",
    "            prob_for_each_prediction[probability] /= total_prob\n",
    "        print(prob_for_each_prediction)\n",
    "        return prediction"
   ]
  },
  {
   "cell_type": "code",
   "execution_count": 5,
   "metadata": {},
   "outputs": [],
   "source": [
    "bigram = formAnalysis(2, df)"
   ]
  },
  {
   "cell_type": "code",
   "execution_count": 6,
   "metadata": {},
   "outputs": [
    {
     "name": "stdout",
     "output_type": "stream",
     "text": [
      "{(0, 0): 0.46234309623430964, (0, 1): 0.0502092050209205, (1, 0): 0.34518828451882844, (1, 1): 0.0041841004184100415, (2, 0): 0.05230125523012552, (2, 1): 0.0020920502092050207, (3, 0): 0.0, (3, 1): 0.0, (4, 0): 0.06276150627615062, (4, 1): 0.0, (5, 0): 0.0, (5, 1): 0.0, (6, 0): 0.02092050209205021, (6, 1): 0.0}\n"
     ]
    },
    {
     "data": {
      "text/plain": [
       "[0, 0]"
      ]
     },
     "execution_count": 6,
     "metadata": {},
     "output_type": "execute_result"
    }
   ],
   "source": [
    "bigram.predict([[0,1],[0,1]])"
   ]
  },
  {
   "cell_type": "code",
   "execution_count": null,
   "metadata": {},
   "outputs": [],
   "source": []
  }
 ],
 "metadata": {
  "kernelspec": {
   "display_name": "Python 3",
   "language": "python",
   "name": "python3"
  },
  "language_info": {
   "codemirror_mode": {
    "name": "ipython",
    "version": 3
   },
   "file_extension": ".py",
   "mimetype": "text/x-python",
   "name": "python",
   "nbconvert_exporter": "python",
   "pygments_lexer": "ipython3",
   "version": "3.10.0"
  }
 },
 "nbformat": 4,
 "nbformat_minor": 2
}
